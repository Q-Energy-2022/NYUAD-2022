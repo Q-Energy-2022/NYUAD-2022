{
 "cells": [
  {
   "cell_type": "code",
   "execution_count": 1,
   "metadata": {},
   "outputs": [],
   "source": [
    "%load_ext autoreload\n",
    "%autoreload 2"
   ]
  },
  {
   "cell_type": "code",
   "execution_count": 2,
   "metadata": {},
   "outputs": [],
   "source": [
    "from qudra import DistributedEnergyOptimizer"
   ]
  },
  {
   "cell_type": "code",
   "execution_count": 14,
   "metadata": {},
   "outputs": [],
   "source": [
    "n=3 #number of power plants\n",
    "N=5 #number of discrete states\n",
    "A =[0]\n",
    "B =[0]\n",
    "C =[0]\n",
    "p_min=[1]\n",
    "p_max=[10]\n",
    "alpha = 1e5 #A is the constant for the constraint for the cost function\n",
    "beta = 8 #B is the constant for the costraint for the cost function\n",
    "L = 5\n",
    "\n",
    "\n",
    "params = {}\n",
    "params[\"A\"] = A\n",
    "params[\"B\"] = B\n",
    "params[\"C\"] = C\n",
    "params[\"P_min\"] = p_min\n",
    "params[\"P_max\"] = p_max\n",
    "params[\"alpha\"] = alpha\n",
    "params[\"beta\"] = beta\n",
    "params[\"L\"] = L\n",
    "params[\"N\"] = N\n",
    "\n",
    "deo = DistributedEnergyOptimizer(params)"
   ]
  },
  {
   "cell_type": "code",
   "execution_count": 15,
   "metadata": {},
   "outputs": [
    {
     "data": {
      "text/plain": [
       "{'results': optimal function value: -100000.0\n",
       " optimal value: [1. 0. 0. 0. 0. 0. 0.]\n",
       " status: SUCCESS,\n",
       " 'eval_count': 58}"
      ]
     },
     "execution_count": 15,
     "metadata": {},
     "output_type": "execute_result"
    }
   ],
   "source": [
    "deo.run_qaoa()"
   ]
  },
  {
   "cell_type": "code",
   "execution_count": 16,
   "metadata": {},
   "outputs": [
    {
     "name": "stderr",
     "output_type": "stream",
     "text": [
      "/Users/phionx/miniconda3/envs/qudra-env/lib/python3.7/site-packages/scipy/optimize/optimize.py:283: RuntimeWarning: Values in x were outside bounds during a minimize step, clipping to bounds\n",
      "  \"minimize step, clipping to bounds\", RuntimeWarning)\n"
     ]
    },
    {
     "data": {
      "text/plain": [
       "{'results': optimal function value: -100000.0\n",
       " optimal value: [1. 0. 0. 0. 0. 0. 0.]\n",
       " status: SUCCESS,\n",
       " 'eval_count': 68}"
      ]
     },
     "execution_count": 16,
     "metadata": {},
     "output_type": "execute_result"
    }
   ],
   "source": [
    "deo.run_vqe()"
   ]
  },
  {
   "cell_type": "code",
   "execution_count": 25,
   "metadata": {},
   "outputs": [
    {
     "data": {
      "text/plain": [
       "{'results': optimal function value: -100000.0\n",
       " optimal value: [1. 0. 0. 0. 0. 0. 0.]\n",
       " status: SUCCESS}"
      ]
     },
     "execution_count": 25,
     "metadata": {},
     "output_type": "execute_result"
    }
   ],
   "source": [
    "deo.run_classical()"
   ]
  },
  {
   "cell_type": "code",
   "execution_count": 22,
   "metadata": {},
   "outputs": [
    {
     "name": "stdout",
     "output_type": "stream",
     "text": [
      "Solution found using the vqe method:\n",
      "\n",
      "Minimum Cost: -100000.0 ul\n",
      "Optimal State: \n",
      "xv0:\t1.0\n",
      "xz00:\t0.0\n",
      "xz01:\t0.0\n",
      "xz02:\t0.0\n",
      "xz03:\t0.0\n",
      "xz04:\t0.0\n",
      "xz05:\t0.0\n",
      "\n",
      "The solution was found within 68 evaluations of vqe.\n"
     ]
    }
   ],
   "source": [
    "deo.print_results(\"vqe\")"
   ]
  },
  {
   "cell_type": "code",
   "execution_count": 23,
   "metadata": {},
   "outputs": [
    {
     "name": "stdout",
     "output_type": "stream",
     "text": [
      "Solution found using the qaoa method:\n",
      "\n",
      "Minimum Cost: -100000.0 ul\n",
      "Optimal State: \n",
      "xv0:\t1.0\n",
      "xz00:\t0.0\n",
      "xz01:\t0.0\n",
      "xz02:\t0.0\n",
      "xz03:\t0.0\n",
      "xz04:\t0.0\n",
      "xz05:\t0.0\n",
      "\n",
      "The solution was found within 58 evaluations of qaoa.\n"
     ]
    }
   ],
   "source": [
    "deo.print_results(\"qaoa\")"
   ]
  },
  {
   "cell_type": "code",
   "execution_count": 27,
   "metadata": {},
   "outputs": [
    {
     "name": "stdout",
     "output_type": "stream",
     "text": [
      "Solution found using the classical method:\n",
      "\n",
      "Minimum Cost: -100000.0 ul\n",
      "Optimal State: \n",
      "xv0:\t1.0\n",
      "xz00:\t0.0\n",
      "xz01:\t0.0\n",
      "xz02:\t0.0\n",
      "xz03:\t0.0\n",
      "xz04:\t0.0\n",
      "xz05:\t0.0\n",
      "\n",
      "The solution was found within 0 evaluations of classical.\n"
     ]
    }
   ],
   "source": [
    "deo.print_results(\"classical\")"
   ]
  }
 ],
 "metadata": {
  "kernelspec": {
   "display_name": "Python 3 (ipykernel)",
   "language": "python",
   "name": "python3"
  },
  "language_info": {
   "codemirror_mode": {
    "name": "ipython",
    "version": 3
   },
   "file_extension": ".py",
   "mimetype": "text/x-python",
   "name": "python",
   "nbconvert_exporter": "python",
   "pygments_lexer": "ipython3",
   "version": "3.7.13"
  }
 },
 "nbformat": 4,
 "nbformat_minor": 4
}
