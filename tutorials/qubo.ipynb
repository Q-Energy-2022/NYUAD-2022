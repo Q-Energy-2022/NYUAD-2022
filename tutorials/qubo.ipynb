{
 "cells": [
  {
   "cell_type": "code",
   "execution_count": 1,
   "metadata": {},
   "outputs": [],
   "source": [
    "%load_ext autoreload\n",
    "%autoreload 2"
   ]
  },
  {
   "cell_type": "code",
   "execution_count": 2,
   "metadata": {},
   "outputs": [],
   "source": [
    "from qudra import DistributedEnergyOptimizer"
   ]
  },
  {
   "cell_type": "code",
   "execution_count": 3,
   "metadata": {},
   "outputs": [],
   "source": [
    "params = {\n",
    "    \"A\": [0,0],\n",
    "    \"B\": [0,0],\n",
    "    \"C\": [0,0],\n",
    "    \"P_min\": [1,1],\n",
    "    \"P_max\": [3,4],\n",
    "    \"alpha\": 0, # alpha is the constant for the constraint for the cost function\n",
    "    \"beta\": 6, # beta is the constant for the costraint for the cost function\n",
    "    \"L\": 5,\n",
    "    \"N\": 1 # number of discrete states minus 1\n",
    "}\n",
    "\n",
    "deo = DistributedEnergyOptimizer(params)"
   ]
  },
  {
   "cell_type": "code",
   "execution_count": 4,
   "metadata": {},
   "outputs": [
    {
     "data": {
      "text/plain": [
       "({'xv0': 0,\n",
       "  'xv1': 0,\n",
       "  'xz00': -54.0,\n",
       "  'xz01': -126.0,\n",
       "  'xz10': -54.0,\n",
       "  'xz11': -144.0},\n",
       " {('xz00', 'xz01'): 36.0,\n",
       "  ('xz10', 'xz11'): 48.0,\n",
       "  ('xv0', 'xz00'): 0,\n",
       "  ('xv0', 'xz01'): 0,\n",
       "  ('xv1', 'xz10'): 0,\n",
       "  ('xv1', 'xz11'): 0,\n",
       "  ('xz00', 'xz10'): 12.0,\n",
       "  ('xz00', 'xz11'): 48.0,\n",
       "  ('xz01', 'xz11'): 144.0},\n",
       " 150.0)"
      ]
     },
     "execution_count": 4,
     "metadata": {},
     "output_type": "execute_result"
    }
   ],
   "source": [
    "deo.linear_terms, deo.quadratic_terms, deo.offset"
   ]
  },
  {
   "cell_type": "code",
   "execution_count": 5,
   "metadata": {},
   "outputs": [
    {
     "name": "stdout",
     "output_type": "stream",
     "text": [
      "Solution found using the qaoa method:\n",
      "\n",
      "Minimum Cost: -36.0 ul\n",
      "Optimal State: \n",
      "xv0:\t0.0\n",
      "xv1:\t0.0\n",
      "xz00:\t1.0\n",
      "xz01:\t1.0\n",
      "xz10:\t1.0\n",
      "xz11:\t0.0\n",
      "\n",
      "The solution was found within 157 evaluations of qaoa.\n"
     ]
    }
   ],
   "source": [
    "deo.run_qaoa()\n",
    "deo.print_results(\"qaoa\")"
   ]
  },
  {
   "cell_type": "code",
   "execution_count": 6,
   "metadata": {},
   "outputs": [
    {
     "name": "stdout",
     "output_type": "stream",
     "text": [
      "Solution found using the vqe method:\n",
      "\n",
      "Minimum Cost: -36.0 ul\n",
      "Optimal State: \n",
      "xv0:\t0.0\n",
      "xv1:\t0.0\n",
      "xz00:\t1.0\n",
      "xz01:\t1.0\n",
      "xz10:\t1.0\n",
      "xz11:\t0.0\n",
      "\n",
      "The solution was found within 60 evaluations of vqe.\n"
     ]
    }
   ],
   "source": [
    "deo.run_vqe()\n",
    "deo.print_results(\"vqe\")"
   ]
  },
  {
   "cell_type": "code",
   "execution_count": 7,
   "metadata": {},
   "outputs": [
    {
     "name": "stdout",
     "output_type": "stream",
     "text": [
      "Solution found using the classical method:\n",
      "\n",
      "Minimum Cost: -36.0 ul\n",
      "Optimal State: \n",
      "xv0:\t1.0\n",
      "xv1:\t1.0\n",
      "xz00:\t1.0\n",
      "xz01:\t1.0\n",
      "xz10:\t1.0\n",
      "xz11:\t0.0\n",
      "\n",
      "The solution was found within 0 evaluations of classical.\n"
     ]
    }
   ],
   "source": [
    "deo.run_classical()\n",
    "deo.print_results(\"classical\")"
   ]
  },
  {
   "cell_type": "code",
   "execution_count": 8,
   "metadata": {},
   "outputs": [
    {
     "name": "stdout",
     "output_type": "stream",
     "text": [
      "Solution found using the grover method:\n",
      "\n",
      "Minimum Cost: 24.0 ul\n",
      "Optimal State: \n",
      "xv0:\t1.0\n",
      "xv1:\t0.0\n",
      "xz00:\t0.0\n",
      "xz01:\t1.0\n",
      "xz10:\t0.0\n",
      "xz11:\t1.0\n",
      "\n",
      "The solution was found within 0 evaluations of grover.\n"
     ]
    }
   ],
   "source": [
    "deo.run_grover()\n",
    "deo.print_results(\"grover\")"
   ]
  },
  {
   "cell_type": "code",
   "execution_count": 9,
   "metadata": {},
   "outputs": [
    {
     "data": {
      "text/plain": [
       "SampleSet(rec.array([([-1,  1,  1,  1,  1, -1], -132., 1),\n",
       "           ([-1, -1,  1,  1,  1, -1], -132., 1),\n",
       "           ([ 1, -1,  1,  1,  1, -1], -132., 1),\n",
       "           ([ 1,  1,  1,  1,  1, -1], -132., 1),\n",
       "           ([-1, -1,  1,  1,  1, -1], -132., 1),\n",
       "           ([ 1,  1,  1, -1, -1,  1],  -60., 1),\n",
       "           ([ 1, -1,  1,  1,  1, -1], -132., 1),\n",
       "           ([ 1,  1,  1, -1, -1,  1],  -60., 1),\n",
       "           ([-1,  1,  1,  1,  1, -1], -132., 1),\n",
       "           ([ 1, -1,  1, -1, -1,  1],  -60., 1),\n",
       "           ([ 1, -1,  1, -1, -1,  1],  -60., 1),\n",
       "           ([ 1, -1,  1,  1,  1, -1], -132., 1),\n",
       "           ([-1, -1,  1,  1,  1, -1], -132., 1),\n",
       "           ([-1, -1,  1,  1,  1, -1], -132., 1),\n",
       "           ([ 1,  1,  1,  1,  1, -1], -132., 1),\n",
       "           ([ 1, -1,  1,  1,  1, -1], -132., 1),\n",
       "           ([ 1, -1,  1,  1,  1, -1], -132., 1),\n",
       "           ([-1, -1,  1, -1, -1,  1],  -60., 1),\n",
       "           ([ 1, -1,  1,  1,  1, -1], -132., 1),\n",
       "           ([ 1, -1,  1,  1,  1, -1], -132., 1),\n",
       "           ([ 1,  1,  1, -1, -1,  1],  -60., 1),\n",
       "           ([-1, -1,  1, -1, -1,  1],  -60., 1),\n",
       "           ([-1, -1,  1,  1,  1, -1], -132., 1),\n",
       "           ([-1, -1,  1,  1,  1, -1], -132., 1),\n",
       "           ([ 1, -1,  1,  1,  1, -1], -132., 1),\n",
       "           ([ 1, -1,  1,  1,  1, -1], -132., 1),\n",
       "           ([ 1, -1,  1,  1,  1, -1], -132., 1),\n",
       "           ([ 1,  1,  1,  1,  1, -1], -132., 1),\n",
       "           ([-1, -1,  1,  1,  1, -1], -132., 1),\n",
       "           ([ 1, -1,  1,  1,  1, -1], -132., 1),\n",
       "           ([-1,  1,  1,  1,  1, -1], -132., 1),\n",
       "           ([-1,  1,  1,  1,  1, -1], -132., 1),\n",
       "           ([ 1,  1,  1,  1,  1, -1], -132., 1),\n",
       "           ([ 1,  1,  1,  1,  1, -1], -132., 1),\n",
       "           ([ 1, -1,  1, -1, -1,  1],  -60., 1),\n",
       "           ([ 1, -1,  1,  1,  1, -1], -132., 1),\n",
       "           ([ 1,  1,  1,  1,  1, -1], -132., 1),\n",
       "           ([-1,  1,  1, -1, -1,  1],  -60., 1),\n",
       "           ([-1,  1,  1,  1,  1, -1], -132., 1),\n",
       "           ([-1,  1,  1, -1, -1,  1],  -60., 1),\n",
       "           ([-1, -1,  1,  1,  1, -1], -132., 1),\n",
       "           ([-1, -1,  1,  1,  1, -1], -132., 1),\n",
       "           ([-1, -1,  1,  1,  1, -1], -132., 1),\n",
       "           ([-1,  1,  1, -1, -1,  1],  -60., 1),\n",
       "           ([-1,  1,  1,  1,  1, -1], -132., 1),\n",
       "           ([ 1,  1,  1, -1, -1,  1],  -60., 1),\n",
       "           ([-1, -1,  1,  1,  1, -1], -132., 1),\n",
       "           ([ 1,  1,  1,  1,  1, -1], -132., 1),\n",
       "           ([-1, -1,  1,  1,  1, -1], -132., 1),\n",
       "           ([ 1, -1,  1,  1,  1, -1], -132., 1),\n",
       "           ([ 1,  1,  1,  1,  1, -1], -132., 1),\n",
       "           ([ 1,  1,  1,  1,  1, -1], -132., 1),\n",
       "           ([ 1,  1,  1,  1,  1, -1], -132., 1),\n",
       "           ([-1, -1,  1,  1,  1, -1], -132., 1),\n",
       "           ([ 1, -1,  1, -1, -1,  1],  -60., 1),\n",
       "           ([-1,  1,  1,  1,  1, -1], -132., 1),\n",
       "           ([ 1, -1,  1,  1,  1, -1], -132., 1),\n",
       "           ([-1, -1,  1,  1,  1, -1], -132., 1),\n",
       "           ([ 1,  1,  1, -1, -1,  1],  -60., 1),\n",
       "           ([-1,  1,  1,  1,  1, -1], -132., 1),\n",
       "           ([-1, -1,  1,  1,  1, -1], -132., 1),\n",
       "           ([-1,  1,  1,  1,  1, -1], -132., 1),\n",
       "           ([ 1,  1,  1,  1,  1, -1], -132., 1),\n",
       "           ([ 1,  1,  1, -1, -1,  1],  -60., 1),\n",
       "           ([ 1, -1,  1, -1, -1,  1],  -60., 1),\n",
       "           ([ 1, -1,  1,  1,  1, -1], -132., 1),\n",
       "           ([-1, -1,  1, -1, -1,  1],  -60., 1),\n",
       "           ([ 1,  1,  1,  1,  1, -1], -132., 1),\n",
       "           ([-1,  1,  1,  1,  1, -1], -132., 1),\n",
       "           ([ 1,  1,  1, -1, -1,  1],  -60., 1),\n",
       "           ([ 1, -1,  1, -1, -1,  1],  -60., 1),\n",
       "           ([-1,  1,  1,  1,  1, -1], -132., 1),\n",
       "           ([-1, -1,  1,  1,  1, -1], -132., 1),\n",
       "           ([-1,  1,  1, -1, -1,  1],  -60., 1),\n",
       "           ([ 1,  1,  1,  1,  1, -1], -132., 1),\n",
       "           ([-1,  1,  1,  1,  1, -1], -132., 1),\n",
       "           ([ 1,  1,  1,  1,  1, -1], -132., 1),\n",
       "           ([-1, -1,  1,  1,  1, -1], -132., 1),\n",
       "           ([ 1,  1,  1,  1,  1, -1], -132., 1),\n",
       "           ([ 1,  1,  1,  1,  1, -1], -132., 1),\n",
       "           ([ 1, -1,  1, -1, -1,  1],  -60., 1),\n",
       "           ([-1, -1,  1,  1,  1, -1], -132., 1),\n",
       "           ([ 1,  1,  1, -1, -1,  1],  -60., 1),\n",
       "           ([-1,  1,  1,  1,  1, -1], -132., 1),\n",
       "           ([-1,  1,  1,  1,  1, -1], -132., 1),\n",
       "           ([ 1,  1,  1,  1,  1, -1], -132., 1),\n",
       "           ([ 1,  1,  1,  1,  1, -1], -132., 1),\n",
       "           ([ 1, -1,  1, -1, -1,  1],  -60., 1),\n",
       "           ([-1, -1,  1, -1, -1,  1],  -60., 1),\n",
       "           ([ 1,  1,  1,  1,  1, -1], -132., 1),\n",
       "           ([-1, -1,  1,  1,  1, -1], -132., 1),\n",
       "           ([-1, -1,  1,  1,  1, -1], -132., 1),\n",
       "           ([ 1, -1,  1,  1,  1, -1], -132., 1),\n",
       "           ([-1, -1,  1,  1,  1, -1], -132., 1),\n",
       "           ([-1,  1,  1, -1, -1,  1],  -60., 1),\n",
       "           ([-1, -1,  1,  1,  1, -1], -132., 1),\n",
       "           ([-1,  1,  1,  1,  1, -1], -132., 1),\n",
       "           ([-1,  1,  1,  1,  1, -1], -132., 1),\n",
       "           ([-1, -1,  1,  1,  1, -1], -132., 1),\n",
       "           ([-1,  1,  1,  1,  1, -1], -132., 1)],\n",
       "          dtype=[('sample', 'i1', (6,)), ('energy', '<f8'), ('num_occurrences', '<i8')]), Variables(['xv0', 'xv1', 'xz00', 'xz01', 'xz10', 'xz11']), {}, 'SPIN')"
      ]
     },
     "execution_count": 9,
     "metadata": {},
     "output_type": "execute_result"
    }
   ],
   "source": [
    "deo.run_qubo_sim()\n",
    "deo.results[\"qubo_sim\"][\"results\"]"
   ]
  }
 ],
 "metadata": {
  "kernelspec": {
   "display_name": "Python 3 (ipykernel)",
   "language": "python",
   "name": "python3"
  },
  "language_info": {
   "codemirror_mode": {
    "name": "ipython",
    "version": 3
   },
   "file_extension": ".py",
   "mimetype": "text/x-python",
   "name": "python",
   "nbconvert_exporter": "python",
   "pygments_lexer": "ipython3",
   "version": "3.7.13"
  }
 },
 "nbformat": 4,
 "nbformat_minor": 4
}
