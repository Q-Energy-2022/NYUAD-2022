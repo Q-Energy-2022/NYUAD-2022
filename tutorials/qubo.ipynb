{
 "cells": [
  {
   "cell_type": "code",
   "execution_count": 52,
   "metadata": {},
   "outputs": [
    {
     "name": "stdout",
     "output_type": "stream",
     "text": [
      "The autoreload extension is already loaded. To reload it, use:\n",
      "  %reload_ext autoreload\n"
     ]
    }
   ],
   "source": [
    "%load_ext autoreload\n",
    "%autoreload 2"
   ]
  },
  {
   "cell_type": "code",
   "execution_count": 53,
   "metadata": {},
   "outputs": [],
   "source": [
    "from qudra import DistributedEnergyOptimizer"
   ]
  },
  {
   "cell_type": "code",
   "execution_count": 67,
   "metadata": {},
   "outputs": [],
   "source": [
    "n=3 #number of power plants\n",
    "N=1 #number of discrete states\n",
    "A =[1]\n",
    "B =[2]\n",
    "C =[3]\n",
    "p_min=[0]\n",
    "p_max=[4]\n",
    "alpha = 0 #A is the constant for the constraint for the cost function\n",
    "beta = 0 #B is the constant for the costraint for the cost function\n",
    "L = 5\n",
    "\n",
    "\n",
    "params = {}\n",
    "params[\"A\"] = A\n",
    "params[\"B\"] = B\n",
    "params[\"C\"] = C\n",
    "params[\"P_min\"] = p_min\n",
    "params[\"P_max\"] = p_max\n",
    "params[\"alpha\"] = alpha\n",
    "params[\"beta\"] = beta\n",
    "params[\"L\"] = L\n",
    "params[\"N\"] = N\n",
    "\n",
    "deo = DistributedEnergyOptimizer(params)"
   ]
  },
  {
   "cell_type": "code",
   "execution_count": 57,
   "metadata": {},
   "outputs": [
    {
     "name": "stdout",
     "output_type": "stream",
     "text": [
      "(0, 0) 0.0\n",
      "(0, 1) 1.0\n",
      "(1, 0) -3.4\n",
      "(1, 1) -1.4\n"
     ]
    }
   ],
   "source": [
    "for i in [0,1]:\n",
    "    for j in [0,1]:\n",
    "        print((i,j),-3.4*i + 1*j + i*j)"
   ]
  },
  {
   "cell_type": "code",
   "execution_count": 68,
   "metadata": {},
   "outputs": [
    {
     "data": {
      "text/plain": [
       "({'xv0': -1, 'xz00': 0.0, 'xz01': 0.0, 'xz02': 0.0, 'xz03': 0.0, 'xz04': 0.0},\n",
       " {('xz00', 'xz01'): 0.0,\n",
       "  ('xz00', 'xz02'): 0.0,\n",
       "  ('xz00', 'xz03'): 0.0,\n",
       "  ('xz00', 'xz04'): 0.0,\n",
       "  ('xz01', 'xz02'): 12.0,\n",
       "  ('xz01', 'xz03'): 18.0,\n",
       "  ('xz01', 'xz04'): 24.0,\n",
       "  ('xz02', 'xz03'): 36.0,\n",
       "  ('xz02', 'xz04'): 48.0,\n",
       "  ('xz03', 'xz04'): 72.0,\n",
       "  ('xv0', 'xz00'): 0,\n",
       "  ('xv0', 'xz01'): 0,\n",
       "  ('xv0', 'xz02'): 0,\n",
       "  ('xv0', 'xz03'): 0,\n",
       "  ('xv0', 'xz04'): 0})"
      ]
     },
     "execution_count": 68,
     "metadata": {},
     "output_type": "execute_result"
    }
   ],
   "source": [
    "deo.linear_terms, deo.quadratic_terms"
   ]
  },
  {
   "cell_type": "code",
   "execution_count": 64,
   "metadata": {},
   "outputs": [
    {
     "name": "stdout",
     "output_type": "stream",
     "text": [
      "Solution found using the qaoa method:\n",
      "\n",
      "Minimum Cost: -1.0 ul\n",
      "Optimal State: \n",
      "xv0:\t1.0\n",
      "xz00:\t0.0\n",
      "xz01:\t0.0\n",
      "xz02:\t0.0\n",
      "xz03:\t0.0\n",
      "xz04:\t0.0\n",
      "\n",
      "The solution was found within 170 evaluations of qaoa.\n"
     ]
    }
   ],
   "source": [
    "deo.run_qaoa()\n",
    "deo.print_results(\"qaoa\")"
   ]
  },
  {
   "cell_type": "code",
   "execution_count": null,
   "metadata": {},
   "outputs": [],
   "source": []
  },
  {
   "cell_type": "code",
   "execution_count": 49,
   "metadata": {},
   "outputs": [
    {
     "name": "stdout",
     "output_type": "stream",
     "text": [
      "Solution found using the vqe method:\n",
      "\n",
      "Minimum Cost: -3.4 ul\n",
      "Optimal State: \n",
      "xv0:\t0.0\n",
      "xz00:\t1.0\n",
      "xz01:\t0.0\n",
      "xz02:\t0.0\n",
      "xz03:\t0.0\n",
      "xz04:\t0.0\n",
      "xz05:\t0.0\n",
      "\n",
      "The solution was found within 68 evaluations of vqe.\n"
     ]
    }
   ],
   "source": [
    "deo.run_vqe()\n",
    "deo.print_results(\"vqe\")"
   ]
  },
  {
   "cell_type": "code",
   "execution_count": 50,
   "metadata": {},
   "outputs": [
    {
     "name": "stdout",
     "output_type": "stream",
     "text": [
      "Solution found using the classical method:\n",
      "\n",
      "Minimum Cost: -3.4 ul\n",
      "Optimal State: \n",
      "xv0:\t0.0\n",
      "xz00:\t1.0\n",
      "xz01:\t0.0\n",
      "xz02:\t0.0\n",
      "xz03:\t1.0\n",
      "xz04:\t1.0\n",
      "xz05:\t0.0\n",
      "\n",
      "The solution was found within 0 evaluations of classical.\n"
     ]
    }
   ],
   "source": [
    "deo.run_classical()\n",
    "deo.print_results(\"classical\")"
   ]
  },
  {
   "cell_type": "code",
   "execution_count": 51,
   "metadata": {},
   "outputs": [
    {
     "name": "stdout",
     "output_type": "stream",
     "text": [
      "Solution found using the grover method:\n",
      "\n",
      "Minimum Cost: -3.4 ul\n",
      "Optimal State: \n",
      "xv0:\t1.0\n",
      "xz00:\t1.0\n",
      "xz01:\t0.0\n",
      "xz02:\t1.0\n",
      "xz03:\t0.0\n",
      "xz04:\t1.0\n",
      "xz05:\t1.0\n",
      "\n",
      "The solution was found within 0 evaluations of grover.\n"
     ]
    },
    {
     "name": "stderr",
     "output_type": "stream",
     "text": [
      "/Users/phionx/miniconda3/envs/qudra-env/lib/python3.7/site-packages/qiskit_optimization/algorithms/optimization_algorithm.py:138: UserWarning: The sum of probability of samples is not close to 1: f{sum_prob}\n",
      "  warn(\"The sum of probability of samples is not close to 1: f{sum_prob}\")\n"
     ]
    }
   ],
   "source": [
    "deo.run_grover()\n",
    "deo.print_results(\"grover\")"
   ]
  },
  {
   "cell_type": "code",
   "execution_count": null,
   "metadata": {},
   "outputs": [],
   "source": []
  }
 ],
 "metadata": {
  "kernelspec": {
   "display_name": "Python 3 (ipykernel)",
   "language": "python",
   "name": "python3"
  },
  "language_info": {
   "codemirror_mode": {
    "name": "ipython",
    "version": 3
   },
   "file_extension": ".py",
   "mimetype": "text/x-python",
   "name": "python",
   "nbconvert_exporter": "python",
   "pygments_lexer": "ipython3",
   "version": "3.7.13"
  }
 },
 "nbformat": 4,
 "nbformat_minor": 4
}
