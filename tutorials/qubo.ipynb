{
 "cells": [
  {
   "cell_type": "code",
   "execution_count": 1,
   "metadata": {},
   "outputs": [],
   "source": [
    "%load_ext autoreload\n",
    "%autoreload 2"
   ]
  },
  {
   "cell_type": "code",
   "execution_count": 2,
   "metadata": {},
   "outputs": [],
   "source": [
    "import sys\n",
    "sys.path.append(\"../\")"
   ]
  },
  {
   "cell_type": "code",
   "execution_count": 7,
   "metadata": {},
   "outputs": [],
   "source": [
    "from qudra import DistributedEnergyOptimizer\n",
    "import numpy as np"
   ]
  },
  {
   "cell_type": "code",
   "execution_count": 34,
   "metadata": {},
   "outputs": [],
   "source": [
    "scale = 100\n",
    "abu_dhabi_params = {\n",
    "    \"A\": np.array([550,570,450,130,300])/scale,\n",
    "    \"B\": np.array([55.5,111,900,575,400])/scale,\n",
    "    \"C\": np.array([0.33,0.33,0.01,0.05,0.05])/scale,\n",
    "    \"P_min\": [.6,.624,2.240,.240,.640],\n",
    "    \"P_max\": [1.5,1.560,5.600,1.200,3.200],\n",
    "    \"alpha\": 1e5, # alpha is the constant for the constraint for the cost function\n",
    "    \"beta\": 10, # beta is the constant for the costraint for the cost function\n",
    "    \"L\": 49155.34595/(365*24),\n",
    "    \"N\": 5, # number of discrete states minus 1\n",
    "    \"plant_names\": [\"Shuweiat\", \"Umm Al Nar\", \"Barakah\", \"Noor Abu Dhabi\", \"Al Dhafra Solar\"]\n",
    "}\n",
    "\n",
    "simple_params = {\n",
    "    \"A\": [0,0],\n",
    "    \"B\": [0,0],\n",
    "    \"C\": [0,0],\n",
    "    \"P_min\": [1,1],\n",
    "    \"P_max\": [3,4],\n",
    "    \"alpha\": 0, # alpha is the constant for the constraint for the cost function\n",
    "    \"beta\": 6, # beta is the constant for the costraint for the cost function\n",
    "    \"L\": 5,\n",
    "    \"N\": 1 # number of discrete states minus 1\n",
    "}\n",
    "\n",
    "deo = DistributedEnergyOptimizer(simple_params)"
   ]
  },
  {
   "cell_type": "code",
   "execution_count": 21,
   "metadata": {},
   "outputs": [],
   "source": [
    "_ = deo.run_qubo_qpu()"
   ]
  },
  {
   "cell_type": "code",
   "execution_count": 33,
   "metadata": {},
   "outputs": [
    {
     "data": {
      "text/plain": [
       "array([-1,  1, -1, -1,  1, -1,  1,  1, -1,  1,  1,  1, -1, -1,  1, -1,  1,\n",
       "       -1,  1,  1,  1,  1, -1, -1,  1,  1,  1, -1,  1,  1,  1,  1, -1, -1,\n",
       "       -1], dtype=int8)"
      ]
     },
     "execution_count": 33,
     "metadata": {},
     "output_type": "execute_result"
    }
   ],
   "source": [
    "energies = deo.results[\"qubo_qpu\"][\"results\"].record[\"energy\"]\n",
    "min_indx = np.argmin(energies)\n",
    "deo.results[\"qubo_qpu\"][\"results\"].record[\"sample\"][min_indx]"
   ]
  },
  {
   "cell_type": "code",
   "execution_count": 11,
   "metadata": {},
   "outputs": [],
   "source": [
    "_ = deo.linear_terms, deo.quadratic_terms, deo.offset"
   ]
  },
  {
   "cell_type": "code",
   "execution_count": 35,
   "metadata": {},
   "outputs": [
    {
     "name": "stdout",
     "output_type": "stream",
     "text": [
      "Solution found using the qaoa method:\n",
      "\n",
      "Minimum Cost: -36.0 ul\n",
      "Optimal State: \n",
      "xv0:\t0.0\n",
      "xv1:\t0.0\n",
      "xz00:\t1.0\n",
      "xz01:\t1.0\n",
      "xz10:\t1.0\n",
      "xz11:\t0.0\n",
      "\n",
      "The solution was found within 170 evaluations of qaoa.\n"
     ]
    }
   ],
   "source": [
    "deo.run_qaoa()\n",
    "deo.print_results(\"qaoa\")"
   ]
  },
  {
   "cell_type": "code",
   "execution_count": 7,
   "metadata": {},
   "outputs": [
    {
     "name": "stdout",
     "output_type": "stream",
     "text": [
      "Solution found using the vqe method:\n",
      "\n",
      "Minimum Cost: -36.0 ul\n",
      "Optimal State: \n",
      "xv0:\t1.0\n",
      "xv1:\t0.0\n",
      "xz00:\t1.0\n",
      "xz01:\t1.0\n",
      "xz10:\t1.0\n",
      "xz11:\t0.0\n",
      "\n",
      "The solution was found within 25 evaluations of vqe.\n"
     ]
    }
   ],
   "source": [
    "deo.run_vqe()\n",
    "deo.print_results(\"vqe\")"
   ]
  },
  {
   "cell_type": "code",
   "execution_count": 8,
   "metadata": {},
   "outputs": [
    {
     "name": "stdout",
     "output_type": "stream",
     "text": [
      "Solution found using the classical method:\n",
      "\n",
      "Minimum Cost: -36.0 ul\n",
      "Optimal State: \n",
      "xv0:\t1.0\n",
      "xv1:\t1.0\n",
      "xz00:\t1.0\n",
      "xz01:\t1.0\n",
      "xz10:\t1.0\n",
      "xz11:\t0.0\n",
      "\n",
      "The solution was found within 0 evaluations of classical.\n"
     ]
    }
   ],
   "source": [
    "deo.run_classical()\n",
    "deo.print_results(\"classical\")"
   ]
  },
  {
   "cell_type": "code",
   "execution_count": 9,
   "metadata": {},
   "outputs": [
    {
     "name": "stdout",
     "output_type": "stream",
     "text": [
      "Solution found using the grover method:\n",
      "\n",
      "Minimum Cost: 54.0 ul\n",
      "Optimal State: \n",
      "xv0:\t0.0\n",
      "xv1:\t1.0\n",
      "xz00:\t1.0\n",
      "xz01:\t0.0\n",
      "xz10:\t1.0\n",
      "xz11:\t0.0\n",
      "\n",
      "The solution was found within 0 evaluations of grover.\n"
     ]
    }
   ],
   "source": [
    "deo.run_grover()\n",
    "deo.print_results(\"grover\")"
   ]
  },
  {
   "cell_type": "code",
   "execution_count": 10,
   "metadata": {},
   "outputs": [
    {
     "data": {
      "text/plain": [
       "SampleSet(rec.array([([ 1, -1,  1,  1,  1, -1], -132., 1),\n",
       "           ([-1, -1,  1,  1,  1, -1], -132., 1),\n",
       "           ([ 1,  1,  1,  1,  1, -1], -132., 1),\n",
       "           ([-1,  1,  1,  1,  1, -1], -132., 1),\n",
       "           ([ 1, -1,  1, -1, -1,  1],  -60., 1),\n",
       "           ([-1,  1,  1,  1,  1, -1], -132., 1),\n",
       "           ([ 1, -1,  1,  1,  1, -1], -132., 1),\n",
       "           ([ 1, -1,  1, -1, -1,  1],  -60., 1),\n",
       "           ([-1, -1,  1, -1, -1,  1],  -60., 1),\n",
       "           ([-1,  1,  1, -1, -1,  1],  -60., 1),\n",
       "           ([-1,  1,  1, -1, -1,  1],  -60., 1),\n",
       "           ([-1, -1,  1,  1,  1, -1], -132., 1),\n",
       "           ([-1, -1,  1,  1,  1, -1], -132., 1),\n",
       "           ([-1,  1,  1,  1,  1, -1], -132., 1),\n",
       "           ([-1, -1,  1,  1,  1, -1], -132., 1),\n",
       "           ([-1,  1,  1,  1,  1, -1], -132., 1),\n",
       "           ([-1,  1,  1,  1,  1, -1], -132., 1),\n",
       "           ([ 1,  1,  1,  1,  1, -1], -132., 1),\n",
       "           ([-1, -1,  1,  1,  1, -1], -132., 1),\n",
       "           ([-1, -1,  1,  1,  1, -1], -132., 1),\n",
       "           ([-1, -1,  1,  1,  1, -1], -132., 1),\n",
       "           ([-1,  1,  1,  1,  1, -1], -132., 1),\n",
       "           ([ 1,  1,  1,  1,  1, -1], -132., 1),\n",
       "           ([ 1, -1,  1, -1, -1,  1],  -60., 1),\n",
       "           ([-1, -1,  1,  1,  1, -1], -132., 1),\n",
       "           ([ 1, -1,  1,  1,  1, -1], -132., 1),\n",
       "           ([-1, -1,  1,  1,  1, -1], -132., 1),\n",
       "           ([ 1,  1,  1, -1, -1,  1],  -60., 1),\n",
       "           ([ 1,  1,  1,  1,  1, -1], -132., 1),\n",
       "           ([ 1, -1,  1,  1,  1, -1], -132., 1),\n",
       "           ([ 1,  1,  1, -1, -1,  1],  -60., 1),\n",
       "           ([ 1,  1,  1,  1,  1, -1], -132., 1),\n",
       "           ([ 1,  1,  1,  1,  1, -1], -132., 1),\n",
       "           ([ 1,  1,  1,  1,  1, -1], -132., 1),\n",
       "           ([-1, -1,  1,  1,  1, -1], -132., 1),\n",
       "           ([-1, -1,  1,  1,  1, -1], -132., 1),\n",
       "           ([-1, -1,  1,  1,  1, -1], -132., 1),\n",
       "           ([ 1, -1,  1,  1,  1, -1], -132., 1),\n",
       "           ([ 1,  1,  1,  1,  1, -1], -132., 1),\n",
       "           ([-1,  1,  1,  1,  1, -1], -132., 1),\n",
       "           ([ 1, -1,  1,  1,  1, -1], -132., 1),\n",
       "           ([-1, -1,  1,  1,  1, -1], -132., 1),\n",
       "           ([-1,  1,  1,  1,  1, -1], -132., 1),\n",
       "           ([ 1, -1,  1,  1,  1, -1], -132., 1),\n",
       "           ([-1,  1,  1,  1,  1, -1], -132., 1),\n",
       "           ([ 1, -1,  1,  1,  1, -1], -132., 1),\n",
       "           ([ 1, -1,  1,  1,  1, -1], -132., 1),\n",
       "           ([ 1, -1,  1, -1, -1,  1],  -60., 1),\n",
       "           ([ 1, -1,  1,  1,  1, -1], -132., 1),\n",
       "           ([ 1, -1,  1,  1,  1, -1], -132., 1),\n",
       "           ([-1, -1,  1, -1, -1,  1],  -60., 1),\n",
       "           ([-1, -1,  1, -1, -1,  1],  -60., 1),\n",
       "           ([-1, -1,  1, -1, -1,  1],  -60., 1),\n",
       "           ([-1,  1,  1,  1,  1, -1], -132., 1),\n",
       "           ([-1, -1,  1,  1,  1, -1], -132., 1),\n",
       "           ([-1, -1,  1, -1, -1,  1],  -60., 1),\n",
       "           ([-1,  1,  1,  1,  1, -1], -132., 1),\n",
       "           ([-1, -1,  1,  1,  1, -1], -132., 1),\n",
       "           ([-1,  1,  1, -1, -1,  1],  -60., 1),\n",
       "           ([-1,  1,  1, -1, -1,  1],  -60., 1),\n",
       "           ([-1,  1,  1,  1,  1, -1], -132., 1),\n",
       "           ([-1, -1,  1,  1,  1, -1], -132., 1),\n",
       "           ([-1, -1,  1, -1, -1,  1],  -60., 1),\n",
       "           ([-1, -1,  1,  1,  1, -1], -132., 1),\n",
       "           ([-1,  1,  1,  1,  1, -1], -132., 1),\n",
       "           ([ 1, -1,  1,  1,  1, -1], -132., 1),\n",
       "           ([-1, -1,  1, -1, -1,  1],  -60., 1),\n",
       "           ([ 1,  1,  1,  1,  1, -1], -132., 1),\n",
       "           ([-1,  1,  1, -1, -1,  1],  -60., 1),\n",
       "           ([ 1,  1,  1,  1,  1, -1], -132., 1),\n",
       "           ([ 1, -1,  1,  1,  1, -1], -132., 1),\n",
       "           ([ 1, -1,  1,  1,  1, -1], -132., 1),\n",
       "           ([-1,  1,  1,  1,  1, -1], -132., 1),\n",
       "           ([ 1,  1,  1,  1,  1, -1], -132., 1),\n",
       "           ([ 1, -1,  1,  1,  1, -1], -132., 1),\n",
       "           ([-1,  1,  1,  1,  1, -1], -132., 1),\n",
       "           ([ 1, -1,  1,  1,  1, -1], -132., 1),\n",
       "           ([ 1, -1,  1, -1, -1,  1],  -60., 1),\n",
       "           ([ 1,  1,  1,  1,  1, -1], -132., 1),\n",
       "           ([ 1, -1,  1,  1,  1, -1], -132., 1),\n",
       "           ([-1, -1,  1, -1, -1,  1],  -60., 1),\n",
       "           ([ 1,  1,  1,  1,  1, -1], -132., 1),\n",
       "           ([ 1,  1,  1, -1, -1,  1],  -60., 1),\n",
       "           ([-1, -1,  1,  1,  1, -1], -132., 1),\n",
       "           ([ 1,  1,  1, -1, -1,  1],  -60., 1),\n",
       "           ([-1,  1,  1,  1,  1, -1], -132., 1),\n",
       "           ([-1,  1,  1, -1, -1,  1],  -60., 1),\n",
       "           ([-1, -1,  1,  1,  1, -1], -132., 1),\n",
       "           ([-1, -1,  1,  1,  1, -1], -132., 1),\n",
       "           ([ 1, -1,  1, -1, -1,  1],  -60., 1),\n",
       "           ([-1,  1,  1, -1, -1,  1],  -60., 1),\n",
       "           ([ 1,  1,  1,  1,  1, -1], -132., 1),\n",
       "           ([ 1,  1,  1,  1,  1, -1], -132., 1),\n",
       "           ([ 1, -1,  1,  1,  1, -1], -132., 1),\n",
       "           ([-1, -1,  1,  1,  1, -1], -132., 1),\n",
       "           ([-1,  1,  1,  1,  1, -1], -132., 1),\n",
       "           ([-1, -1,  1,  1,  1, -1], -132., 1),\n",
       "           ([-1, -1,  1,  1,  1, -1], -132., 1),\n",
       "           ([ 1, -1,  1, -1, -1,  1],  -60., 1),\n",
       "           ([-1, -1,  1,  1,  1, -1], -132., 1)],\n",
       "          dtype=[('sample', 'i1', (6,)), ('energy', '<f8'), ('num_occurrences', '<i8')]), Variables(['xv0', 'xv1', 'xz00', 'xz01', 'xz10', 'xz11']), {}, 'SPIN')"
      ]
     },
     "execution_count": 10,
     "metadata": {},
     "output_type": "execute_result"
    }
   ],
   "source": [
    "deo.run_qubo_sim()\n",
    "deo.results[\"qubo_sim\"][\"results\"]"
   ]
  }
 ],
 "metadata": {
  "kernelspec": {
   "display_name": "Python 3 [Braket]",
   "language": "python",
   "name": "python3_aws_braket_kwx6dl"
  },
  "language_info": {
   "codemirror_mode": {
    "name": "ipython",
    "version": 3
   },
   "file_extension": ".py",
   "mimetype": "text/x-python",
   "name": "python",
   "nbconvert_exporter": "python",
   "pygments_lexer": "ipython3",
   "version": "3.9.7"
  }
 },
 "nbformat": 4,
 "nbformat_minor": 4
}
