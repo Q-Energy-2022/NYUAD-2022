{
 "cells": [
  {
   "cell_type": "code",
   "execution_count": 1,
   "metadata": {},
   "outputs": [],
   "source": [
    "%load_ext autoreload\n",
    "%autoreload 2"
   ]
  },
  {
   "cell_type": "code",
   "execution_count": 2,
   "metadata": {},
   "outputs": [],
   "source": [
    "import sys\n",
    "sys.path.append(\"../\")"
   ]
  },
  {
   "cell_type": "code",
   "execution_count": 3,
   "metadata": {},
   "outputs": [],
   "source": [
    "from qudra import DistributedEnergyOptimizer\n",
    "import numpy as np"
   ]
  },
  {
   "cell_type": "markdown",
   "metadata": {
    "tags": []
   },
   "source": [
    "# Annealing"
   ]
  },
  {
   "cell_type": "code",
   "execution_count": 4,
   "metadata": {},
   "outputs": [],
   "source": [
    "scale = 100\n",
    "env_cost = -100\n",
    "\n",
    "abu_dhabi_params = {\n",
    "    \"A\": np.array([550,570,450,130 + env_cost,300 + env_cost])/scale,\n",
    "    \"B\": np.array([55.5,111,900,575 + env_cost, 400 + env_cost])/scale,\n",
    "    \"C\": np.array([0.33,0.33,0.01,0.05 + env_cost/10000,0.05 + env_cost/10000])/scale,\n",
    "    \"P_min\": [.6,.624,2.240,.240,.640],\n",
    "    \"P_max\": [1.5,1.560,5.600,1.200,3.200],\n",
    "    \"alpha\": 1e5, # alpha is the constant for the constraint for the cost function\n",
    "    \"beta\": 10, # beta is the constant for the costraint for the cost function\n",
    "    \"L\": 49155.34595/(365*24),\n",
    "    \"N\": 7, # number of discrete states minus 1\n",
    "    \"plant_names\": [\"Shuweiat - Gas Turbine\", \"Umm Al Nar - Gas Turbine\", \"Barakah - Nuclear\", \"Noor Abu Dhabi - Solar\", \"Al Dhafra - Solar\"]\n",
    "}\n",
    "\n",
    "deo = DistributedEnergyOptimizer(abu_dhabi_params)"
   ]
  },
  {
   "cell_type": "code",
   "execution_count": 29,
   "metadata": {},
   "outputs": [],
   "source": [
    "_ = deo.run_annealer_qpu()"
   ]
  },
  {
   "cell_type": "code",
   "execution_count": null,
   "metadata": {},
   "outputs": [],
   "source": [
    "deo.plot_histogram(\"annealer_qpu\")"
   ]
  },
  {
   "cell_type": "markdown",
   "metadata": {},
   "source": [
    "# Gate Based"
   ]
  },
  {
   "cell_type": "code",
   "execution_count": 5,
   "metadata": {},
   "outputs": [],
   "source": [
    "simple_params = {\n",
    "    \"A\": [0,0],\n",
    "    \"B\": [0,0],\n",
    "    \"C\": [0,0],\n",
    "    \"P_min\": [1,1],\n",
    "    \"P_max\": [3,4],\n",
    "    \"alpha\": 1000, # alpha is the constant for the constraint for the cost function\n",
    "    \"beta\": 6, # beta is the constant for the costraint for the cost function\n",
    "    \"L\": 5,\n",
    "    \"N\": 1 # number of discrete states minus 1\n",
    "}\n",
    "\n",
    "deo = DistributedEnergyOptimizer(simple_params)"
   ]
  },
  {
   "cell_type": "code",
   "execution_count": 6,
   "metadata": {},
   "outputs": [
    {
     "name": "stdout",
     "output_type": "stream",
     "text": [
      "Solution found using the qaoa method:\n",
      "\n",
      "Minimum Cost: -30.0 ul\n",
      "Optimal State: \n",
      "xv0:\t0.0\n",
      "xv1:\t0.0\n",
      "xz0,0:\t0.0\n",
      "xz0,1:\t1.0\n",
      "xz1,0:\t1.0\n",
      "xz1,1:\t0.0\n",
      "\n",
      "The solution was found within 168 evaluations of qaoa.\n"
     ]
    }
   ],
   "source": [
    "deo.run_qaoa()\n",
    "deo.print_results(\"qaoa\")"
   ]
  },
  {
   "cell_type": "code",
   "execution_count": 7,
   "metadata": {},
   "outputs": [
    {
     "name": "stdout",
     "output_type": "stream",
     "text": [
      "Solution found using the vqe method:\n",
      "\n",
      "Minimum Cost: -30.0 ul\n",
      "Optimal State: \n",
      "xv0:\t0.0\n",
      "xv1:\t0.0\n",
      "xz0,0:\t0.0\n",
      "xz0,1:\t1.0\n",
      "xz1,0:\t1.0\n",
      "xz1,1:\t0.0\n",
      "\n",
      "The solution was found within 25 evaluations of vqe.\n"
     ]
    }
   ],
   "source": [
    "deo.run_vqe()\n",
    "deo.print_results(\"vqe\")"
   ]
  },
  {
   "cell_type": "code",
   "execution_count": 8,
   "metadata": {},
   "outputs": [
    {
     "name": "stdout",
     "output_type": "stream",
     "text": [
      "Solution found using the classical method:\n",
      "\n",
      "Minimum Cost: -30.0 ul\n",
      "Optimal State: \n",
      "xv0:\t0.0\n",
      "xv1:\t0.0\n",
      "xz0,0:\t0.0\n",
      "xz0,1:\t1.0\n",
      "xz1,0:\t1.0\n",
      "xz1,1:\t0.0\n",
      "\n",
      "The solution was found within 0 evaluations of classical.\n"
     ]
    }
   ],
   "source": [
    "deo.run_classical()\n",
    "deo.print_results(\"classical\")"
   ]
  },
  {
   "cell_type": "code",
   "execution_count": 11,
   "metadata": {},
   "outputs": [],
   "source": [
    "# grover's doesn't work as well\n",
    "# deo.run_grover(num_iterations=1000)\n",
    "# deo.print_results(\"grover\")"
   ]
  },
  {
   "cell_type": "code",
   "execution_count": 13,
   "metadata": {},
   "outputs": [
    {
     "name": "stdout",
     "output_type": "stream",
     "text": [
      "Solution found using the annealer_sim method:\n",
      "\n",
      "Minimum Cost: -30.0 ul\n",
      "Optimal State: \n",
      "xv0:\t0\n",
      "xv1:\t0\n",
      "xz0,0:\t0\n",
      "xz0,1:\t1\n",
      "xz1,0:\t1\n",
      "xz1,1:\t0\n",
      "\n",
      "The solution was found with 100 shots of annealer_sim.\n"
     ]
    }
   ],
   "source": [
    "deo.run_annealer_sim()\n",
    "deo.print_results(\"annealer_sim\")"
   ]
  }
 ],
 "metadata": {
  "kernelspec": {
   "display_name": "Python 3 (ipykernel)",
   "language": "python",
   "name": "python3"
  },
  "language_info": {
   "codemirror_mode": {
    "name": "ipython",
    "version": 3
   },
   "file_extension": ".py",
   "mimetype": "text/x-python",
   "name": "python",
   "nbconvert_exporter": "python",
   "pygments_lexer": "ipython3",
   "version": "3.7.13"
  }
 },
 "nbformat": 4,
 "nbformat_minor": 4
}
